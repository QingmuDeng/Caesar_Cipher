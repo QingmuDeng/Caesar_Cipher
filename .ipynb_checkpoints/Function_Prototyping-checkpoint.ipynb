{
 "cells": [
  {
   "cell_type": "code",
   "execution_count": null,
   "metadata": {},
   "outputs": [],
   "source": [
    "letters = ['A', 'B', 'C', 'D', 'E', 'F', 'G', 'H', 'I', 'J',\n",
    "           'K', 'L', 'M', 'N', 'O', 'P', 'Q', 'R', 'S', 'T',\n",
    "           'U', 'V', 'W','X', 'Y', 'Z']"
   ]
  },
  {
   "cell_type": "code",
   "execution_count": null,
   "metadata": {},
   "outputs": [],
   "source": [
    "len(letters)"
   ]
  },
  {
   "cell_type": "markdown",
   "metadata": {},
   "source": [
    "## Testing letter mode encrypt from here on"
   ]
  },
  {
   "cell_type": "code",
   "execution_count": 1,
   "metadata": {},
   "outputs": [],
   "source": [
    "def letter_mode_encrypt(num_shifted, plain_char, accept_symbol = True):\n",
    "    \"\"\"The letter mode allows users to enter letters and space only. The function\n",
    "    operates within the range of A-Z. Return space or encrypted upper cases letter.\n",
    "    \n",
    "    num_shifted:   the number to shift the character by\n",
    "    plain_char:    the original letter to be encrypted\n",
    "    accept_symbol: whether or not to allow for symbols as input; if so, return the\n",
    "                   symbol itself\n",
    "    \"\"\"\n",
    "    \n",
    "    #If the given character is SPACE, just return the space\n",
    "    if plain_char == \" \":\n",
    "        return \" \"\n",
    "    \n",
    "    #Convert characters to ASCII numbers\n",
    "    plain_char_num = ord(plain_char.upper())\n",
    "\n",
    "    #If the given character is neither a letter nor space,\n",
    "    #replace the symbol with a space if ignore_symbol is\n",
    "    #true; otherwise, raise the error\n",
    "    if plain_char_num < 65 or plain_char_num > 90:\n",
    "        if accept_symbol == True:\n",
    "            return plain_char\n",
    "        else:\n",
    "            msg = \"\"\"The input continas \"%s\", which is not a letter.\"\"\" % plain_char\n",
    "            raise Exception(msg)\n",
    "    \n",
    "    #Keep the number to shift the letter by within 0 - 26\n",
    "    while num_shifted > 26:\n",
    "        num_shifted -= 26\n",
    "    \n",
    "    #If the number to shift would shift the character out of \"Z\", ASCII 90, then\n",
    "    #add 6 to the number to shift to use the lower case letters (range 97 - 122)\n",
    "    if num_shifted + plain_char_num > 90:\n",
    "        num_shifted += 6\n",
    "    \n",
    "    #store the encrypted character\n",
    "    encrypted_char = chr(plain_char_num+num_shifted)\n",
    "    \n",
    "    #return the character and make sure it's in upper case\n",
    "    return encrypted_char.upper()"
   ]
  },
  {
   "cell_type": "code",
   "execution_count": 2,
   "metadata": {},
   "outputs": [],
   "source": [
    "num_shifted = 1\n",
    "message = \"Hello World!hello\"\n",
    "cipher = \"\"\n",
    "for character in message:\n",
    "    encrypted_letter = letter_mode_encrypt(num_shifted, character)\n",
    "    cipher += encrypted_letter"
   ]
  },
  {
   "cell_type": "code",
   "execution_count": 3,
   "metadata": {},
   "outputs": [
    {
     "data": {
      "text/plain": [
       "'IFMMP XPSME!IFMMP'"
      ]
     },
     "execution_count": 3,
     "metadata": {},
     "output_type": "execute_result"
    }
   ],
   "source": [
    "cipher"
   ]
  },
  {
   "cell_type": "code",
   "execution_count": 68,
   "metadata": {},
   "outputs": [
    {
     "data": {
      "text/plain": [
       "'A'"
      ]
     },
     "execution_count": 68,
     "metadata": {},
     "output_type": "execute_result"
    }
   ],
   "source": [
    "letter_mode_encrypt(25, \"b\")"
   ]
  },
  {
   "cell_type": "code",
   "execution_count": null,
   "metadata": {},
   "outputs": [],
   "source": [
    "letters[ord(message[1].upper())-65+num_shifted]"
   ]
  },
  {
   "cell_type": "code",
   "execution_count": null,
   "metadata": {},
   "outputs": [],
   "source": [
    "ord('z')"
   ]
  },
  {
   "cell_type": "code",
   "execution_count": null,
   "metadata": {},
   "outputs": [],
   "source": [
    "for i in range(90, 123):\n",
    "    print(chr(i))"
   ]
  },
  {
   "cell_type": "code",
   "execution_count": null,
   "metadata": {},
   "outputs": [],
   "source": [
    "ord(a)"
   ]
  },
  {
   "cell_type": "markdown",
   "metadata": {},
   "source": [
    "## Testing letter mode decrypt from here on"
   ]
  },
  {
   "cell_type": "code",
   "execution_count": 71,
   "metadata": {},
   "outputs": [],
   "source": [
    "def letter_mode_decrypt(num_shifted, encrypted_char, accept_symbol = True):\n",
    "    \"\"\"The letter mode allows users to enter encrypted and space only. The function\n",
    "    operates within the range of A-Z. Return space or encrypted_char upper cases letter.\n",
    "    \n",
    "    num_shifted:       the number to shift the character by\n",
    "    encrypted_char:    the letter mode encrypted_char letter to be decrypted\n",
    "    accept_symbol:     whether or not to allow for symbols as input; if so, return the\n",
    "                       symbol itself\n",
    "    num_to_shift:      the number to shift the encrypted character by to get the decrypted character\n",
    "    \"\"\"\n",
    "    \n",
    "    #If the given character is SPACE, just return the space\n",
    "    if encrypted_char == \" \":\n",
    "        return \" \"\n",
    "    \n",
    "    #Convert characters to ASCII numbers\n",
    "    encrypted_char_num = ord(encrypted_char.upper())\n",
    "\n",
    "    #If the given character is neither a letter nor space,\n",
    "    #replace the symbol with a space if ignore_symbol is\n",
    "    #true; otherwise, raise the error\n",
    "    if encrypted_char_num < 65 or encrypted_char_num > 90:\n",
    "        if accept_symbol == True:\n",
    "            return encrypted_char\n",
    "        else:\n",
    "            msg = \"\"\"The input continas \"%s\", which is not a letter.\"\"\" % plain_char\n",
    "            raise Exception(msg)\n",
    "    \n",
    "    #Keep the number to shift the letter by within 0 - 26\n",
    "    while num_shifted > 26:\n",
    "        num_shifted -= 26\n",
    "    \n",
    "    #Calculate how many numbers to shift to get the decrypted letter\n",
    "    num_to_shift = 26 - num_shifted\n",
    "\n",
    "    #If the number to shift would shift the character out of \"Z\", ASCII 90, then\n",
    "    #add 6 to the number to shift to use the lower case letters (range 97 - 122)\n",
    "    if num_to_shift + encrypted_char_num > 90:\n",
    "        num_to_shift += 6\n",
    "    \n",
    "    #store the decrypted character\n",
    "    decrypted_char = chr(encrypted_char_num+num_to_shift)\n",
    "    \n",
    "    #return the character and make sure it's in upper case\n",
    "    return decrypted_char.upper()"
   ]
  },
  {
   "cell_type": "code",
   "execution_count": 72,
   "metadata": {},
   "outputs": [
    {
     "name": "stdout",
     "output_type": "stream",
     "text": [
      "25\n",
      "25\n",
      "25\n",
      "25\n",
      "25\n",
      "25\n",
      "25\n",
      "25\n",
      "25\n",
      "25\n",
      "25\n",
      "25\n",
      "25\n",
      "25\n",
      "25\n"
     ]
    }
   ],
   "source": [
    "num_shifted = 1\n",
    "cipher = 'IFMMP XPSME IFMMP'\n",
    "message = \"\"\n",
    "for character in cipher:\n",
    "    decrypted_letter = letter_mode_decrypt(num_shifted, character)\n",
    "    message += decrypted_letter"
   ]
  },
  {
   "cell_type": "code",
   "execution_count": 73,
   "metadata": {},
   "outputs": [
    {
     "data": {
      "text/plain": [
       "'HELLO WORLD HELLO'"
      ]
     },
     "execution_count": 73,
     "metadata": {},
     "output_type": "execute_result"
    }
   ],
   "source": [
    "message"
   ]
  },
  {
   "cell_type": "code",
   "execution_count": null,
   "metadata": {},
   "outputs": [],
   "source": []
  }
 ],
 "metadata": {
  "kernelspec": {
   "display_name": "Python 3",
   "language": "python",
   "name": "python3"
  },
  "language_info": {
   "codemirror_mode": {
    "name": "ipython",
    "version": 3
   },
   "file_extension": ".py",
   "mimetype": "text/x-python",
   "name": "python",
   "nbconvert_exporter": "python",
   "pygments_lexer": "ipython3",
   "version": "3.6.3"
  }
 },
 "nbformat": 4,
 "nbformat_minor": 2
}
